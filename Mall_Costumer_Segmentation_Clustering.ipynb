{
  "nbformat": 4,
  "nbformat_minor": 0,
  "metadata": {
    "kernelspec": {
      "display_name": "Python 3",
      "language": "python",
      "name": "python3"
    },
    "language_info": {
      "codemirror_mode": {
        "name": "ipython",
        "version": 3
      },
      "file_extension": ".py",
      "mimetype": "text/x-python",
      "name": "python",
      "nbconvert_exporter": "python",
      "pygments_lexer": "ipython3",
      "version": "3.7.6"
    },
    "colab": {
      "name": "Mall Costumer Segmentation Clustering.ipynb",
      "provenance": [],
      "collapsed_sections": [
        "yjNoVYSmgUq5",
        "K8Js2M-Y-LSh",
        "-pdlxNpOgUrO",
        "g3oWkVs3oAOA",
        "CyI8UP51K_Bg",
        "pTpRcyWJLAmE",
        "drG7950ATorv",
        "SNdqbUZivWVA"
      ],
      "include_colab_link": true
    }
  },
  "cells": [
    {
      "cell_type": "markdown",
      "metadata": {
        "id": "view-in-github",
        "colab_type": "text"
      },
      "source": [
        "<a href=\"https://colab.research.google.com/github/dindamareta/Mall-Customer-Clustering/blob/master/Mall_Costumer_Segmentation_Clustering.ipynb\" target=\"_parent\"><img src=\"https://colab.research.google.com/assets/colab-badge.svg\" alt=\"Open In Colab\"/></a>"
      ]
    },
    {
      "cell_type": "markdown",
      "metadata": {
        "id": "TAkiUGjMgUpv"
      },
      "source": [
        "*Data Science Course - Telkom Digital Talent Incubator 2020*\n",
        "\n",
        "Dinda Mareta Putriany\n",
        "<br> DS0207\n",
        "\n",
        "---"
      ]
    },
    {
      "cell_type": "markdown",
      "metadata": {
        "id": "nu49Dg1SgUpy"
      },
      "source": [
        "# *Mall Customer Segmentation-Clustering*"
      ]
    },
    {
      "cell_type": "markdown",
      "metadata": {
        "id": "O8OG4__ygUp0"
      },
      "source": [
        "Clustering adalah metode pengelompokan data. Dalam arti lain sebuah proses untuk mengelompokan data ke dalam beberapa cluster atau kelompok sehingga data dalam satu cluster memiliki tingkat kemiripan yang maksimum dan data antar cluster memiliki kemiripan yang minimum Clustering merupakan proses partisi satu set objek data ke dalam himpunan bagian. Partisi tidak dilakukan secara manual melainkan dengan suatu algoritma clustering. Oleh karena itu, clustering sangat berguna dan bisa menemukan group atau kelompok yang tidak dikenal dalam data. <br> <br>\n",
        "\n",
        "Pada tugas kali ini diberikan *Mal Customer Segmentation Datasets* dari https://www.kaggle.com/vjchoudhary7/customer-segmentation-tutorial-in-python."
      ]
    },
    {
      "cell_type": "markdown",
      "metadata": {
        "id": "wHp8yjk3gUp1"
      },
      "source": [
        "### *Import Library*"
      ]
    },
    {
      "cell_type": "code",
      "metadata": {
        "id": "NM3jO20bgUp3"
      },
      "source": [
        "# Import Library\n",
        "import pandas as pd\n",
        "import matplotlib.pyplot as plt\n",
        "import seaborn as sns\n",
        "from sklearn.preprocessing import StandardScaler\n",
        "from sklearn.cluster import KMeans\n",
        "from sklearn.metrics import silhouette_score\n",
        "from sklearn.cluster import KMeans\n",
        "import scipy.cluster.hierarchy as sch\n",
        "from sklearn.cluster import AgglomerativeClustering"
      ],
      "execution_count": 1,
      "outputs": []
    },
    {
      "cell_type": "markdown",
      "metadata": {
        "id": "X-lGQSlHgUp_"
      },
      "source": [
        "### *Import Dataset*"
      ]
    },
    {
      "cell_type": "markdown",
      "metadata": {
        "id": "jTOrvoGmgUqB"
      },
      "source": [
        "Data memiliki 5 atribut. Berikut merupakan rincian dari *mall customer dataset*.\n",
        "<br>\n",
        "1. **CustomerID**: Nomor ID customer. <br>\n",
        "2. **Gender**: Jenis kelamin customer.<br>\n",
        "3. **Age**: Usia customer.  <br>\n",
        "4. **Anual Income (k$)**: Pendapatan customer. <br>\n",
        "5. **Spending Score (1-100)**: Skor untuk customer yang ditetapkan oleh mall berdasarkan perilaku. <br>"
      ]
    },
    {
      "cell_type": "code",
      "metadata": {
        "scrolled": true,
        "id": "7n1O69bQgUqC",
        "outputId": "fb948b15-a427-4e35-b7ed-e54709e29717",
        "colab": {
          "base_uri": "https://localhost:8080/",
          "height": 198
        }
      },
      "source": [
        "# Import Data \n",
        "df_mall = pd.read_csv('https://raw.githubusercontent.com/dindamareta/Mall-Customer-Clustering/master/Data/Mall_Customers.csv')\n",
        "\n",
        "# Show 5 first Row\n",
        "df_mall.head()"
      ],
      "execution_count": 2,
      "outputs": [
        {
          "output_type": "execute_result",
          "data": {
            "text/html": [
              "<div>\n",
              "<style scoped>\n",
              "    .dataframe tbody tr th:only-of-type {\n",
              "        vertical-align: middle;\n",
              "    }\n",
              "\n",
              "    .dataframe tbody tr th {\n",
              "        vertical-align: top;\n",
              "    }\n",
              "\n",
              "    .dataframe thead th {\n",
              "        text-align: right;\n",
              "    }\n",
              "</style>\n",
              "<table border=\"1\" class=\"dataframe\">\n",
              "  <thead>\n",
              "    <tr style=\"text-align: right;\">\n",
              "      <th></th>\n",
              "      <th>CustomerID</th>\n",
              "      <th>Gender</th>\n",
              "      <th>Age</th>\n",
              "      <th>Annual Income (k$)</th>\n",
              "      <th>Spending Score (1-100)</th>\n",
              "    </tr>\n",
              "  </thead>\n",
              "  <tbody>\n",
              "    <tr>\n",
              "      <th>0</th>\n",
              "      <td>1</td>\n",
              "      <td>Male</td>\n",
              "      <td>19</td>\n",
              "      <td>15</td>\n",
              "      <td>39</td>\n",
              "    </tr>\n",
              "    <tr>\n",
              "      <th>1</th>\n",
              "      <td>2</td>\n",
              "      <td>Male</td>\n",
              "      <td>21</td>\n",
              "      <td>15</td>\n",
              "      <td>81</td>\n",
              "    </tr>\n",
              "    <tr>\n",
              "      <th>2</th>\n",
              "      <td>3</td>\n",
              "      <td>Female</td>\n",
              "      <td>20</td>\n",
              "      <td>16</td>\n",
              "      <td>6</td>\n",
              "    </tr>\n",
              "    <tr>\n",
              "      <th>3</th>\n",
              "      <td>4</td>\n",
              "      <td>Female</td>\n",
              "      <td>23</td>\n",
              "      <td>16</td>\n",
              "      <td>77</td>\n",
              "    </tr>\n",
              "    <tr>\n",
              "      <th>4</th>\n",
              "      <td>5</td>\n",
              "      <td>Female</td>\n",
              "      <td>31</td>\n",
              "      <td>17</td>\n",
              "      <td>40</td>\n",
              "    </tr>\n",
              "  </tbody>\n",
              "</table>\n",
              "</div>"
            ],
            "text/plain": [
              "   CustomerID  Gender  Age  Annual Income (k$)  Spending Score (1-100)\n",
              "0           1    Male   19                  15                      39\n",
              "1           2    Male   21                  15                      81\n",
              "2           3  Female   20                  16                       6\n",
              "3           4  Female   23                  16                      77\n",
              "4           5  Female   31                  17                      40"
            ]
          },
          "metadata": {
            "tags": []
          },
          "execution_count": 2
        }
      ]
    },
    {
      "cell_type": "markdown",
      "metadata": {
        "id": "XZX7SptCgUqJ"
      },
      "source": [
        "## Menampilkan Informasi Data"
      ]
    },
    {
      "cell_type": "markdown",
      "metadata": {
        "id": "ME3mRV5pgUqK"
      },
      "source": [
        "#### Menampilkan Informasi Umum"
      ]
    },
    {
      "cell_type": "code",
      "metadata": {
        "id": "tgBu8LQogUqL",
        "outputId": "6e52c43d-0f02-4fc2-cbce-f86f31471088",
        "colab": {
          "base_uri": "https://localhost:8080/"
        }
      },
      "source": [
        "# Prints the Dataset Information\n",
        "df_mall.info()"
      ],
      "execution_count": 3,
      "outputs": [
        {
          "output_type": "stream",
          "text": [
            "<class 'pandas.core.frame.DataFrame'>\n",
            "RangeIndex: 200 entries, 0 to 199\n",
            "Data columns (total 5 columns):\n",
            " #   Column                  Non-Null Count  Dtype \n",
            "---  ------                  --------------  ----- \n",
            " 0   CustomerID              200 non-null    int64 \n",
            " 1   Gender                  200 non-null    object\n",
            " 2   Age                     200 non-null    int64 \n",
            " 3   Annual Income (k$)      200 non-null    int64 \n",
            " 4   Spending Score (1-100)  200 non-null    int64 \n",
            "dtypes: int64(4), object(1)\n",
            "memory usage: 7.9+ KB\n"
          ],
          "name": "stdout"
        }
      ]
    },
    {
      "cell_type": "markdown",
      "metadata": {
        "id": "C5lvs-8cgUqR"
      },
      "source": [
        "Dari informasi di atas, diketahui bahwa terdapat 200 data dengan 2 tipe data yaitu numerik (7 atribut) dan objek (10 atribut).\n",
        "- **Numerik**: CustomerID, Age, Annual Income (k$), dan Spending Score (1-100)\n",
        "- **Objek**: Gender.\n"
      ]
    },
    {
      "cell_type": "markdown",
      "metadata": {
        "id": "V7AZ7_-cgUqS"
      },
      "source": [
        "#### Menampilkan Informasi Berdasarkan Statistik"
      ]
    },
    {
      "cell_type": "code",
      "metadata": {
        "scrolled": false,
        "id": "qU-Koz3vgUqT",
        "outputId": "8fc16b61-76f7-4bfd-baea-b7d4221285ef",
        "colab": {
          "base_uri": "https://localhost:8080/",
          "height": 168
        }
      },
      "source": [
        "# Prints Descriptive Statistics\n",
        "df_mall.describe().transpose()"
      ],
      "execution_count": 4,
      "outputs": [
        {
          "output_type": "execute_result",
          "data": {
            "text/html": [
              "<div>\n",
              "<style scoped>\n",
              "    .dataframe tbody tr th:only-of-type {\n",
              "        vertical-align: middle;\n",
              "    }\n",
              "\n",
              "    .dataframe tbody tr th {\n",
              "        vertical-align: top;\n",
              "    }\n",
              "\n",
              "    .dataframe thead th {\n",
              "        text-align: right;\n",
              "    }\n",
              "</style>\n",
              "<table border=\"1\" class=\"dataframe\">\n",
              "  <thead>\n",
              "    <tr style=\"text-align: right;\">\n",
              "      <th></th>\n",
              "      <th>count</th>\n",
              "      <th>mean</th>\n",
              "      <th>std</th>\n",
              "      <th>min</th>\n",
              "      <th>25%</th>\n",
              "      <th>50%</th>\n",
              "      <th>75%</th>\n",
              "      <th>max</th>\n",
              "    </tr>\n",
              "  </thead>\n",
              "  <tbody>\n",
              "    <tr>\n",
              "      <th>CustomerID</th>\n",
              "      <td>200.0</td>\n",
              "      <td>100.50</td>\n",
              "      <td>57.879185</td>\n",
              "      <td>1.0</td>\n",
              "      <td>50.75</td>\n",
              "      <td>100.5</td>\n",
              "      <td>150.25</td>\n",
              "      <td>200.0</td>\n",
              "    </tr>\n",
              "    <tr>\n",
              "      <th>Age</th>\n",
              "      <td>200.0</td>\n",
              "      <td>38.85</td>\n",
              "      <td>13.969007</td>\n",
              "      <td>18.0</td>\n",
              "      <td>28.75</td>\n",
              "      <td>36.0</td>\n",
              "      <td>49.00</td>\n",
              "      <td>70.0</td>\n",
              "    </tr>\n",
              "    <tr>\n",
              "      <th>Annual Income (k$)</th>\n",
              "      <td>200.0</td>\n",
              "      <td>60.56</td>\n",
              "      <td>26.264721</td>\n",
              "      <td>15.0</td>\n",
              "      <td>41.50</td>\n",
              "      <td>61.5</td>\n",
              "      <td>78.00</td>\n",
              "      <td>137.0</td>\n",
              "    </tr>\n",
              "    <tr>\n",
              "      <th>Spending Score (1-100)</th>\n",
              "      <td>200.0</td>\n",
              "      <td>50.20</td>\n",
              "      <td>25.823522</td>\n",
              "      <td>1.0</td>\n",
              "      <td>34.75</td>\n",
              "      <td>50.0</td>\n",
              "      <td>73.00</td>\n",
              "      <td>99.0</td>\n",
              "    </tr>\n",
              "  </tbody>\n",
              "</table>\n",
              "</div>"
            ],
            "text/plain": [
              "                        count    mean        std  ...    50%     75%    max\n",
              "CustomerID              200.0  100.50  57.879185  ...  100.5  150.25  200.0\n",
              "Age                     200.0   38.85  13.969007  ...   36.0   49.00   70.0\n",
              "Annual Income (k$)      200.0   60.56  26.264721  ...   61.5   78.00  137.0\n",
              "Spending Score (1-100)  200.0   50.20  25.823522  ...   50.0   73.00   99.0\n",
              "\n",
              "[4 rows x 8 columns]"
            ]
          },
          "metadata": {
            "tags": []
          },
          "execution_count": 4
        }
      ]
    },
    {
      "cell_type": "markdown",
      "metadata": {
        "id": "yT_BzOnmgUqr"
      },
      "source": [
        "## *Preprocessing* Data"
      ]
    },
    {
      "cell_type": "markdown",
      "metadata": {
        "id": "1pcNgDlngUqs"
      },
      "source": [
        "Tujuannya adalah untuk membuat data menjadi ideal sebelum di proses. *Preprocessing* data dapat mengatasi beberapa masalah yaitu\n",
        "1. Data Tidak Lengkap\n",
        "    - Data hilang / Kosong\n",
        "    - Kekurangan atribut tertentu atau atribut yang sesuai\n",
        "    - Hanya berisi data agregat\n",
        "2. Noise\n",
        "    - Mengandung kesalahan\n",
        "    - Mengandung data yang *outlier*\n",
        "3. Tidak Konsisten\n",
        "    - Mengandung perbedaan dalam kode atau nama"
      ]
    },
    {
      "cell_type": "markdown",
      "metadata": {
        "id": "w62c149KgUqs"
      },
      "source": [
        "#### Mengecek Data Hilang/Kosong"
      ]
    },
    {
      "cell_type": "markdown",
      "metadata": {
        "id": "3wxc8TBwgUqt"
      },
      "source": [
        "Mengecek apakah terdapat data yang kosong atau tidak. Jika terdapat data kosong maka data tersebut akan diisi dengan median berdasarkan atributnya."
      ]
    },
    {
      "cell_type": "code",
      "metadata": {
        "scrolled": false,
        "id": "L_M5nwszgUqu",
        "outputId": "093b6c15-0492-4bb9-dd55-9dbee53fcac5",
        "colab": {
          "base_uri": "https://localhost:8080/"
        }
      },
      "source": [
        "# Check for Missing Values\n",
        "df_mall.isnull().sum()"
      ],
      "execution_count": 5,
      "outputs": [
        {
          "output_type": "execute_result",
          "data": {
            "text/plain": [
              "CustomerID                0\n",
              "Gender                    0\n",
              "Age                       0\n",
              "Annual Income (k$)        0\n",
              "Spending Score (1-100)    0\n",
              "dtype: int64"
            ]
          },
          "metadata": {
            "tags": []
          },
          "execution_count": 5
        }
      ]
    },
    {
      "cell_type": "markdown",
      "metadata": {
        "id": "XrpSTyq4gUqy"
      },
      "source": [
        "Berdasarkan data di atas diketahui bahwa tidak terdapat data yang kosong dan siap digunakan, sehingga tidak perlu menghitung median."
      ]
    },
    {
      "cell_type": "markdown",
      "metadata": {
        "id": "AGzL9Daqg5nG"
      },
      "source": [
        "#### Menghapus Data yang Tidak Diperlukan"
      ]
    },
    {
      "cell_type": "markdown",
      "metadata": {
        "id": "9xwRaDu1g7lS"
      },
      "source": [
        "Menghapus data yang tidak diperlukan untuk proses clustering. Disini data yang akan dihapus atau di drop adalah data dri atribut CustomerID"
      ]
    },
    {
      "cell_type": "code",
      "metadata": {
        "scrolled": false,
        "id": "2rfOrXM2g9Mu",
        "outputId": "6b15b708-d38d-408a-8d29-d25eefd14452",
        "colab": {
          "base_uri": "https://localhost:8080/",
          "height": 198
        }
      },
      "source": [
        "# Drop Atribute\n",
        "df_mall.drop('CustomerID', axis=1, inplace=True)\n",
        "df_mall.head()"
      ],
      "execution_count": 6,
      "outputs": [
        {
          "output_type": "execute_result",
          "data": {
            "text/html": [
              "<div>\n",
              "<style scoped>\n",
              "    .dataframe tbody tr th:only-of-type {\n",
              "        vertical-align: middle;\n",
              "    }\n",
              "\n",
              "    .dataframe tbody tr th {\n",
              "        vertical-align: top;\n",
              "    }\n",
              "\n",
              "    .dataframe thead th {\n",
              "        text-align: right;\n",
              "    }\n",
              "</style>\n",
              "<table border=\"1\" class=\"dataframe\">\n",
              "  <thead>\n",
              "    <tr style=\"text-align: right;\">\n",
              "      <th></th>\n",
              "      <th>Gender</th>\n",
              "      <th>Age</th>\n",
              "      <th>Annual Income (k$)</th>\n",
              "      <th>Spending Score (1-100)</th>\n",
              "    </tr>\n",
              "  </thead>\n",
              "  <tbody>\n",
              "    <tr>\n",
              "      <th>0</th>\n",
              "      <td>Male</td>\n",
              "      <td>19</td>\n",
              "      <td>15</td>\n",
              "      <td>39</td>\n",
              "    </tr>\n",
              "    <tr>\n",
              "      <th>1</th>\n",
              "      <td>Male</td>\n",
              "      <td>21</td>\n",
              "      <td>15</td>\n",
              "      <td>81</td>\n",
              "    </tr>\n",
              "    <tr>\n",
              "      <th>2</th>\n",
              "      <td>Female</td>\n",
              "      <td>20</td>\n",
              "      <td>16</td>\n",
              "      <td>6</td>\n",
              "    </tr>\n",
              "    <tr>\n",
              "      <th>3</th>\n",
              "      <td>Female</td>\n",
              "      <td>23</td>\n",
              "      <td>16</td>\n",
              "      <td>77</td>\n",
              "    </tr>\n",
              "    <tr>\n",
              "      <th>4</th>\n",
              "      <td>Female</td>\n",
              "      <td>31</td>\n",
              "      <td>17</td>\n",
              "      <td>40</td>\n",
              "    </tr>\n",
              "  </tbody>\n",
              "</table>\n",
              "</div>"
            ],
            "text/plain": [
              "   Gender  Age  Annual Income (k$)  Spending Score (1-100)\n",
              "0    Male   19                  15                      39\n",
              "1    Male   21                  15                      81\n",
              "2  Female   20                  16                       6\n",
              "3  Female   23                  16                      77\n",
              "4  Female   31                  17                      40"
            ]
          },
          "metadata": {
            "tags": []
          },
          "execution_count": 6
        }
      ]
    },
    {
      "cell_type": "markdown",
      "metadata": {
        "id": "ycjbX-q-kB4T"
      },
      "source": [
        "#### Eksplor Dataset"
      ]
    },
    {
      "cell_type": "markdown",
      "metadata": {
        "id": "lLfVMVuvkrHC"
      },
      "source": [
        "Tujuannya untuk mencari informasi-informasi yang ada pada data"
      ]
    },
    {
      "cell_type": "code",
      "metadata": {
        "id": "A_5hxEn0kcvo",
        "outputId": "ad2b8a32-0f23-477e-e837-c211e5d64331",
        "colab": {
          "base_uri": "https://localhost:8080/",
          "height": 288
        }
      },
      "source": [
        "df_mall.describe()"
      ],
      "execution_count": 7,
      "outputs": [
        {
          "output_type": "execute_result",
          "data": {
            "text/html": [
              "<div>\n",
              "<style scoped>\n",
              "    .dataframe tbody tr th:only-of-type {\n",
              "        vertical-align: middle;\n",
              "    }\n",
              "\n",
              "    .dataframe tbody tr th {\n",
              "        vertical-align: top;\n",
              "    }\n",
              "\n",
              "    .dataframe thead th {\n",
              "        text-align: right;\n",
              "    }\n",
              "</style>\n",
              "<table border=\"1\" class=\"dataframe\">\n",
              "  <thead>\n",
              "    <tr style=\"text-align: right;\">\n",
              "      <th></th>\n",
              "      <th>Age</th>\n",
              "      <th>Annual Income (k$)</th>\n",
              "      <th>Spending Score (1-100)</th>\n",
              "    </tr>\n",
              "  </thead>\n",
              "  <tbody>\n",
              "    <tr>\n",
              "      <th>count</th>\n",
              "      <td>200.000000</td>\n",
              "      <td>200.000000</td>\n",
              "      <td>200.000000</td>\n",
              "    </tr>\n",
              "    <tr>\n",
              "      <th>mean</th>\n",
              "      <td>38.850000</td>\n",
              "      <td>60.560000</td>\n",
              "      <td>50.200000</td>\n",
              "    </tr>\n",
              "    <tr>\n",
              "      <th>std</th>\n",
              "      <td>13.969007</td>\n",
              "      <td>26.264721</td>\n",
              "      <td>25.823522</td>\n",
              "    </tr>\n",
              "    <tr>\n",
              "      <th>min</th>\n",
              "      <td>18.000000</td>\n",
              "      <td>15.000000</td>\n",
              "      <td>1.000000</td>\n",
              "    </tr>\n",
              "    <tr>\n",
              "      <th>25%</th>\n",
              "      <td>28.750000</td>\n",
              "      <td>41.500000</td>\n",
              "      <td>34.750000</td>\n",
              "    </tr>\n",
              "    <tr>\n",
              "      <th>50%</th>\n",
              "      <td>36.000000</td>\n",
              "      <td>61.500000</td>\n",
              "      <td>50.000000</td>\n",
              "    </tr>\n",
              "    <tr>\n",
              "      <th>75%</th>\n",
              "      <td>49.000000</td>\n",
              "      <td>78.000000</td>\n",
              "      <td>73.000000</td>\n",
              "    </tr>\n",
              "    <tr>\n",
              "      <th>max</th>\n",
              "      <td>70.000000</td>\n",
              "      <td>137.000000</td>\n",
              "      <td>99.000000</td>\n",
              "    </tr>\n",
              "  </tbody>\n",
              "</table>\n",
              "</div>"
            ],
            "text/plain": [
              "              Age  Annual Income (k$)  Spending Score (1-100)\n",
              "count  200.000000          200.000000              200.000000\n",
              "mean    38.850000           60.560000               50.200000\n",
              "std     13.969007           26.264721               25.823522\n",
              "min     18.000000           15.000000                1.000000\n",
              "25%     28.750000           41.500000               34.750000\n",
              "50%     36.000000           61.500000               50.000000\n",
              "75%     49.000000           78.000000               73.000000\n",
              "max     70.000000          137.000000               99.000000"
            ]
          },
          "metadata": {
            "tags": []
          },
          "execution_count": 7
        }
      ]
    },
    {
      "cell_type": "markdown",
      "metadata": {
        "id": "Bwa9HWkXk6Ef"
      },
      "source": [
        "Berdasarkan tabel di atas diketahui beberapa hal berikut.<br>\n",
        "**Age**\n",
        "* Usia termuda customer adalah 18 tahun\n",
        "* Usia tertua customer adalah 70 tahun\n",
        "* Rata-rata usia customer adalah 38 tahun\n",
        "\n",
        "**Annual Income** \n",
        "* Pendapatan terendah customer adalah 15K\n",
        "* Pendapatan terendah customer adalah 137K\n",
        "* Rata-rata pendapatan customer adalah 60K\n",
        "\n",
        "**Spending Score**\n",
        "* Skor terendah customer adalah 1\n",
        "* Skor tertinggi customer adalah 99\n",
        "* Skor rata-rata customer adalah 50\n"
      ]
    },
    {
      "cell_type": "markdown",
      "metadata": {
        "id": "iVoum68kkKVH"
      },
      "source": [
        "Data akan dikelompokkan berdasarkan Gender (merupakan satu-satunya atribut yang bertipe objek) "
      ]
    },
    {
      "cell_type": "code",
      "metadata": {
        "id": "sy_cgn4lk4Ko",
        "outputId": "06ab0a25-a122-41b8-dd92-64cc7fcd4634",
        "colab": {
          "base_uri": "https://localhost:8080/",
          "height": 388
        }
      },
      "source": [
        "# Menghitung jumlah data pada atribut gender dan melihat perbandingannya\n",
        "print(df_mall['Gender'].value_counts())\n",
        "print('\\n')\n",
        "sns.countplot(x='Gender', data=df_mall)"
      ],
      "execution_count": 8,
      "outputs": [
        {
          "output_type": "stream",
          "text": [
            "Female    112\n",
            "Male       88\n",
            "Name: Gender, dtype: int64\n",
            "\n",
            "\n"
          ],
          "name": "stdout"
        },
        {
          "output_type": "execute_result",
          "data": {
            "text/plain": [
              "<matplotlib.axes._subplots.AxesSubplot at 0x7f2ebd095588>"
            ]
          },
          "metadata": {
            "tags": []
          },
          "execution_count": 8
        },
        {
          "output_type": "display_data",
          "data": {
            "image/png": "[encoded data removed]",
            "text/plain": [
              "<Figure size 432x288 with 1 Axes>"
            ]
          },
          "metadata": {
            "tags": [],
            "needs_background": "light"
          }
        }
      ]
    },
    {
      "cell_type": "markdown",
      "metadata": {
        "id": "HKT69PwAn6ca"
      },
      "source": [
        "Berdasarkan gambar diatas diketahui bahwa cutomer mall lebih banyak berjenis kelamin perempuan"
      ]
    },
    {
      "cell_type": "markdown",
      "metadata": {
        "id": "P7dfheVPoK68"
      },
      "source": [
        "Selanjutnya akan dilakukan perhitungan setiap atribut terhadap atribut Gender"
      ]
    },
    {
      "cell_type": "markdown",
      "metadata": {
        "id": "oVv1a0eRoR7f"
      },
      "source": [
        "###### **Age-Gender**"
      ]
    },
    {
      "cell_type": "code",
      "metadata": {
        "id": "StmBbexWokwW",
        "outputId": "8a42a229-3b0c-431f-d4df-dde7b7db94de",
        "colab": {
          "base_uri": "https://localhost:8080/",
          "height": 108
        }
      },
      "source": [
        "aged = pd.DataFrame()\n",
        "aged['Male'] = (df_mall[df_mall['Gender'] == 'Male'][['Gender','Age']].describe())['Age']\n",
        "aged['Female'] = (df_mall[df_mall['Gender'] == 'Female'][['Gender','Age']].describe())['Age']\n",
        "aged.transpose()"
      ],
      "execution_count": 9,
      "outputs": [
        {
          "output_type": "execute_result",
          "data": {
            "text/html": [
              "<div>\n",
              "<style scoped>\n",
              "    .dataframe tbody tr th:only-of-type {\n",
              "        vertical-align: middle;\n",
              "    }\n",
              "\n",
              "    .dataframe tbody tr th {\n",
              "        vertical-align: top;\n",
              "    }\n",
              "\n",
              "    .dataframe thead th {\n",
              "        text-align: right;\n",
              "    }\n",
              "</style>\n",
              "<table border=\"1\" class=\"dataframe\">\n",
              "  <thead>\n",
              "    <tr style=\"text-align: right;\">\n",
              "      <th></th>\n",
              "      <th>count</th>\n",
              "      <th>mean</th>\n",
              "      <th>std</th>\n",
              "      <th>min</th>\n",
              "      <th>25%</th>\n",
              "      <th>50%</th>\n",
              "      <th>75%</th>\n",
              "      <th>max</th>\n",
              "    </tr>\n",
              "  </thead>\n",
              "  <tbody>\n",
              "    <tr>\n",
              "      <th>Male</th>\n",
              "      <td>88.0</td>\n",
              "      <td>39.806818</td>\n",
              "      <td>15.514812</td>\n",
              "      <td>18.0</td>\n",
              "      <td>27.75</td>\n",
              "      <td>37.0</td>\n",
              "      <td>50.5</td>\n",
              "      <td>70.0</td>\n",
              "    </tr>\n",
              "    <tr>\n",
              "      <th>Female</th>\n",
              "      <td>112.0</td>\n",
              "      <td>38.098214</td>\n",
              "      <td>12.644095</td>\n",
              "      <td>18.0</td>\n",
              "      <td>29.00</td>\n",
              "      <td>35.0</td>\n",
              "      <td>47.5</td>\n",
              "      <td>68.0</td>\n",
              "    </tr>\n",
              "  </tbody>\n",
              "</table>\n",
              "</div>"
            ],
            "text/plain": [
              "        count       mean        std   min    25%   50%   75%   max\n",
              "Male     88.0  39.806818  15.514812  18.0  27.75  37.0  50.5  70.0\n",
              "Female  112.0  38.098214  12.644095  18.0  29.00  35.0  47.5  68.0"
            ]
          },
          "metadata": {
            "tags": []
          },
          "execution_count": 9
        }
      ]
    },
    {
      "cell_type": "markdown",
      "metadata": {
        "id": "dadZeSTkoyjx"
      },
      "source": [
        "Berdasarkan tabel di atas diketahui bahwa.\n",
        "* Baik customer laki-laki maupun perempuan memiliki usia termuda yaitu 18 tahun\n",
        "* Usia tertua customer laki-laki 70 tahun dan perempuan 68 tahun\n",
        "* Rata-rata usia customer laki-laki 39 tahun dan perempuan 38 tahun"
      ]
    },
    {
      "cell_type": "markdown",
      "metadata": {
        "id": "Xm1E9mmRpR8z"
      },
      "source": [
        "###### **Annual Income-Gender**"
      ]
    },
    {
      "cell_type": "code",
      "metadata": {
        "id": "CdFtC_qIoxia",
        "outputId": "72ba48da-595b-4b81-912d-ed0fa26dd03c",
        "colab": {
          "base_uri": "https://localhost:8080/",
          "height": 108
        }
      },
      "source": [
        "annuald = pd.DataFrame()\n",
        "annuald['Male'] = (df_mall[df_mall['Gender'] == 'Male'][['Gender','Annual Income (k$)']].describe())['Annual Income (k$)']\n",
        "annuald['Female'] = (df_mall[df_mall['Gender'] == 'Female'][['Gender','Annual Income (k$)']].describe())['Annual Income (k$)']\n",
        "annuald.transpose()"
      ],
      "execution_count": 10,
      "outputs": [
        {
          "output_type": "execute_result",
          "data": {
            "text/html": [
              "<div>\n",
              "<style scoped>\n",
              "    .dataframe tbody tr th:only-of-type {\n",
              "        vertical-align: middle;\n",
              "    }\n",
              "\n",
              "    .dataframe tbody tr th {\n",
              "        vertical-align: top;\n",
              "    }\n",
              "\n",
              "    .dataframe thead th {\n",
              "        text-align: right;\n",
              "    }\n",
              "</style>\n",
              "<table border=\"1\" class=\"dataframe\">\n",
              "  <thead>\n",
              "    <tr style=\"text-align: right;\">\n",
              "      <th></th>\n",
              "      <th>count</th>\n",
              "      <th>mean</th>\n",
              "      <th>std</th>\n",
              "      <th>min</th>\n",
              "      <th>25%</th>\n",
              "      <th>50%</th>\n",
              "      <th>75%</th>\n",
              "      <th>max</th>\n",
              "    </tr>\n",
              "  </thead>\n",
              "  <tbody>\n",
              "    <tr>\n",
              "      <th>Male</th>\n",
              "      <td>88.0</td>\n",
              "      <td>62.227273</td>\n",
              "      <td>26.638373</td>\n",
              "      <td>15.0</td>\n",
              "      <td>45.50</td>\n",
              "      <td>62.5</td>\n",
              "      <td>78.00</td>\n",
              "      <td>137.0</td>\n",
              "    </tr>\n",
              "    <tr>\n",
              "      <th>Female</th>\n",
              "      <td>112.0</td>\n",
              "      <td>59.250000</td>\n",
              "      <td>26.011952</td>\n",
              "      <td>16.0</td>\n",
              "      <td>39.75</td>\n",
              "      <td>60.0</td>\n",
              "      <td>77.25</td>\n",
              "      <td>126.0</td>\n",
              "    </tr>\n",
              "  </tbody>\n",
              "</table>\n",
              "</div>"
            ],
            "text/plain": [
              "        count       mean        std   min    25%   50%    75%    max\n",
              "Male     88.0  62.227273  26.638373  15.0  45.50  62.5  78.00  137.0\n",
              "Female  112.0  59.250000  26.011952  16.0  39.75  60.0  77.25  126.0"
            ]
          },
          "metadata": {
            "tags": []
          },
          "execution_count": 10
        }
      ]
    },
    {
      "cell_type": "markdown",
      "metadata": {
        "id": "1rs6Xamlplf0"
      },
      "source": [
        "Berdasarkan tabel di atas diketahui bahwa.\n",
        "* Customer laki-laki memiliki pendapatan terendah sebanyak 15K dan perempuan sebanyak 16K\n",
        "* Customer laki-laki memiliki pendapatan tertinggi sebanyak 137K dan perempuan sebanyak 126K\n",
        "* Rata-rata pendapatan ustomer laki-laki sebanyak 62K dan perempuan sebanyak 59K"
      ]
    },
    {
      "cell_type": "markdown",
      "metadata": {
        "id": "idx5Yt-8qGg2"
      },
      "source": [
        "###### **Spending Score (1-100)-Gender**"
      ]
    },
    {
      "cell_type": "code",
      "metadata": {
        "id": "Epqougi2qKCg",
        "outputId": "edb94d06-6402-4f21-83a7-c8f3ebbe7d8d",
        "colab": {
          "base_uri": "https://localhost:8080/",
          "height": 108
        }
      },
      "source": [
        "scored = pd.DataFrame()\n",
        "scored['Male'] = (df_mall[df_mall['Gender'] == 'Male'][['Gender','Spending Score (1-100)']].describe())['Spending Score (1-100)']\n",
        "scored['Female'] = (df_mall[df_mall['Gender'] == 'Female'][['Gender','Spending Score (1-100)']].describe())['Spending Score (1-100)']\n",
        "scored.transpose()"
      ],
      "execution_count": 11,
      "outputs": [
        {
          "output_type": "execute_result",
          "data": {
            "text/html": [
              "<div>\n",
              "<style scoped>\n",
              "    .dataframe tbody tr th:only-of-type {\n",
              "        vertical-align: middle;\n",
              "    }\n",
              "\n",
              "    .dataframe tbody tr th {\n",
              "        vertical-align: top;\n",
              "    }\n",
              "\n",
              "    .dataframe thead th {\n",
              "        text-align: right;\n",
              "    }\n",
              "</style>\n",
              "<table border=\"1\" class=\"dataframe\">\n",
              "  <thead>\n",
              "    <tr style=\"text-align: right;\">\n",
              "      <th></th>\n",
              "      <th>count</th>\n",
              "      <th>mean</th>\n",
              "      <th>std</th>\n",
              "      <th>min</th>\n",
              "      <th>25%</th>\n",
              "      <th>50%</th>\n",
              "      <th>75%</th>\n",
              "      <th>max</th>\n",
              "    </tr>\n",
              "  </thead>\n",
              "  <tbody>\n",
              "    <tr>\n",
              "      <th>Male</th>\n",
              "      <td>88.0</td>\n",
              "      <td>48.511364</td>\n",
              "      <td>27.89677</td>\n",
              "      <td>1.0</td>\n",
              "      <td>24.5</td>\n",
              "      <td>50.0</td>\n",
              "      <td>70.0</td>\n",
              "      <td>97.0</td>\n",
              "    </tr>\n",
              "    <tr>\n",
              "      <th>Female</th>\n",
              "      <td>112.0</td>\n",
              "      <td>51.526786</td>\n",
              "      <td>24.11495</td>\n",
              "      <td>5.0</td>\n",
              "      <td>35.0</td>\n",
              "      <td>50.0</td>\n",
              "      <td>73.0</td>\n",
              "      <td>99.0</td>\n",
              "    </tr>\n",
              "  </tbody>\n",
              "</table>\n",
              "</div>"
            ],
            "text/plain": [
              "        count       mean       std  min   25%   50%   75%   max\n",
              "Male     88.0  48.511364  27.89677  1.0  24.5  50.0  70.0  97.0\n",
              "Female  112.0  51.526786  24.11495  5.0  35.0  50.0  73.0  99.0"
            ]
          },
          "metadata": {
            "tags": []
          },
          "execution_count": 11
        }
      ]
    },
    {
      "cell_type": "markdown",
      "metadata": {
        "id": "tlg36mYJqL0Z"
      },
      "source": [
        "Berdasarkan tabel di atas diketahui bahwa.\n",
        "* Customer laki-laki memiliki skor terendah sebanyak 1 dan perempuan sebanyak 5\n",
        "* Customer laki-laki memiliki skor tertinggi sebanyak 97 dan perempuan sebanyak 99\n",
        "* Rata-rata skor ustomer laki-laki sebanyak 48 dan perempuan sebanyak 51"
      ]
    },
    {
      "cell_type": "markdown",
      "metadata": {
        "id": "Gj1iLRh7gUqz"
      },
      "source": [
        "#### Standardize\n"
      ]
    },
    {
      "cell_type": "markdown",
      "metadata": {
        "id": "D20eSnhPgUq0"
      },
      "source": [
        "Melakukan standarisasi data untuk menyamakan rentang dan / atau variabilitas data. Standarisasi fitur menjadikan nilai setiap fitur dalam data memiliki mean nol (saat mengurangkan mean di pembilang) dan unit-varians."
      ]
    },
    {
      "cell_type": "code",
      "metadata": {
        "id": "TyVAqZuDsxaY",
        "outputId": "fcf47334-fc70-4dce-eafb-9aef8d7af815",
        "colab": {
          "base_uri": "https://localhost:8080/",
          "height": 198
        }
      },
      "source": [
        "df_drp = df_mall.copy()\n",
        "df_drp.drop(['Gender','Age'], axis=1, inplace=True)\n",
        "df_drp.head()"
      ],
      "execution_count": 12,
      "outputs": [
        {
          "output_type": "execute_result",
          "data": {
            "text/html": [
              "<div>\n",
              "<style scoped>\n",
              "    .dataframe tbody tr th:only-of-type {\n",
              "        vertical-align: middle;\n",
              "    }\n",
              "\n",
              "    .dataframe tbody tr th {\n",
              "        vertical-align: top;\n",
              "    }\n",
              "\n",
              "    .dataframe thead th {\n",
              "        text-align: right;\n",
              "    }\n",
              "</style>\n",
              "<table border=\"1\" class=\"dataframe\">\n",
              "  <thead>\n",
              "    <tr style=\"text-align: right;\">\n",
              "      <th></th>\n",
              "      <th>Annual Income (k$)</th>\n",
              "      <th>Spending Score (1-100)</th>\n",
              "    </tr>\n",
              "  </thead>\n",
              "  <tbody>\n",
              "    <tr>\n",
              "      <th>0</th>\n",
              "      <td>15</td>\n",
              "      <td>39</td>\n",
              "    </tr>\n",
              "    <tr>\n",
              "      <th>1</th>\n",
              "      <td>15</td>\n",
              "      <td>81</td>\n",
              "    </tr>\n",
              "    <tr>\n",
              "      <th>2</th>\n",
              "      <td>16</td>\n",
              "      <td>6</td>\n",
              "    </tr>\n",
              "    <tr>\n",
              "      <th>3</th>\n",
              "      <td>16</td>\n",
              "      <td>77</td>\n",
              "    </tr>\n",
              "    <tr>\n",
              "      <th>4</th>\n",
              "      <td>17</td>\n",
              "      <td>40</td>\n",
              "    </tr>\n",
              "  </tbody>\n",
              "</table>\n",
              "</div>"
            ],
            "text/plain": [
              "   Annual Income (k$)  Spending Score (1-100)\n",
              "0                  15                      39\n",
              "1                  15                      81\n",
              "2                  16                       6\n",
              "3                  16                      77\n",
              "4                  17                      40"
            ]
          },
          "metadata": {
            "tags": []
          },
          "execution_count": 12
        }
      ]
    },
    {
      "cell_type": "code",
      "metadata": {
        "scrolled": false,
        "id": "ZmbTv4bNgUq1",
        "outputId": "38d37282-526f-41b4-8e25-10e9b6687a3b",
        "colab": {
          "base_uri": "https://localhost:8080/",
          "height": 198
        }
      },
      "source": [
        "df_sd = df_drp.copy()\n",
        "\n",
        "# Set Name for StandardScaler as scaler\n",
        "scaler = StandardScaler() \n",
        "\n",
        "# Fit Standardization\n",
        "column_names = df_sd.columns.tolist()\n",
        "df_sd[column_names] = scaler.fit_transform(df_sd[column_names])\n",
        "df_sd.sort_index(inplace=True)\n",
        "df_sd.head()"
      ],
      "execution_count": 13,
      "outputs": [
        {
          "output_type": "execute_result",
          "data": {
            "text/html": [
              "<div>\n",
              "<style scoped>\n",
              "    .dataframe tbody tr th:only-of-type {\n",
              "        vertical-align: middle;\n",
              "    }\n",
              "\n",
              "    .dataframe tbody tr th {\n",
              "        vertical-align: top;\n",
              "    }\n",
              "\n",
              "    .dataframe thead th {\n",
              "        text-align: right;\n",
              "    }\n",
              "</style>\n",
              "<table border=\"1\" class=\"dataframe\">\n",
              "  <thead>\n",
              "    <tr style=\"text-align: right;\">\n",
              "      <th></th>\n",
              "      <th>Annual Income (k$)</th>\n",
              "      <th>Spending Score (1-100)</th>\n",
              "    </tr>\n",
              "  </thead>\n",
              "  <tbody>\n",
              "    <tr>\n",
              "      <th>0</th>\n",
              "      <td>-1.738999</td>\n",
              "      <td>-0.434801</td>\n",
              "    </tr>\n",
              "    <tr>\n",
              "      <th>1</th>\n",
              "      <td>-1.738999</td>\n",
              "      <td>1.195704</td>\n",
              "    </tr>\n",
              "    <tr>\n",
              "      <th>2</th>\n",
              "      <td>-1.700830</td>\n",
              "      <td>-1.715913</td>\n",
              "    </tr>\n",
              "    <tr>\n",
              "      <th>3</th>\n",
              "      <td>-1.700830</td>\n",
              "      <td>1.040418</td>\n",
              "    </tr>\n",
              "    <tr>\n",
              "      <th>4</th>\n",
              "      <td>-1.662660</td>\n",
              "      <td>-0.395980</td>\n",
              "    </tr>\n",
              "  </tbody>\n",
              "</table>\n",
              "</div>"
            ],
            "text/plain": [
              "   Annual Income (k$)  Spending Score (1-100)\n",
              "0           -1.738999               -0.434801\n",
              "1           -1.738999                1.195704\n",
              "2           -1.700830               -1.715913\n",
              "3           -1.700830                1.040418\n",
              "4           -1.662660               -0.395980"
            ]
          },
          "metadata": {
            "tags": []
          },
          "execution_count": 13
        }
      ]
    },
    {
      "cell_type": "markdown",
      "metadata": {
        "id": "Wy45NEystTDk"
      },
      "source": [
        "### Data Visualization"
      ]
    },
    {
      "cell_type": "markdown",
      "metadata": {
        "id": "qokKppyTtTDl"
      },
      "source": [
        "Langkah ini untuk melakukan visualisasi data yang dapat digunakan untuk menentukan cluster"
      ]
    },
    {
      "cell_type": "code",
      "metadata": {
        "id": "LH7o9Ml7twgH",
        "outputId": "77c5e2d8-8918-4bc8-f58f-40d4d5b6d0ba",
        "colab": {
          "base_uri": "https://localhost:8080/",
          "height": 591
        }
      },
      "source": [
        "# Styling Plot\n",
        "sns.set() \n",
        "plt.rcParams['figure.figsize'] = (16, 9)\n",
        "\n",
        "# Visualizing the Data\n",
        "sns.scatterplot(x='Annual Income (k$)', y='Spending Score (1-100)', data=df_sd)\n",
        "plt.title('Customer Segments')\n",
        "plt.xlabel('Annual Income')\n",
        "plt.ylabel('Annual Spend')"
      ],
      "execution_count": 14,
      "outputs": [
        {
          "output_type": "execute_result",
          "data": {
            "text/plain": [
              "Text(0, 0.5, 'Annual Spend')"
            ]
          },
          "metadata": {
            "tags": []
          },
          "execution_count": 14
        },
        {
          "output_type": "display_data",
          "data": {
            "image/png": "[encoded data removed]",
            "text/plain": [
              "<Figure size 1152x648 with 1 Axes>"
            ]
          },
          "metadata": {
            "tags": []
          }
        }
      ]
    },
    {
      "cell_type": "markdown",
      "metadata": {
        "id": "WfVNs2odgUrO"
      },
      "source": [
        "## Metode Clustering"
      ]
    },
    {
      "cell_type": "markdown",
      "metadata": {
        "id": "LSKcGwzE-85p"
      },
      "source": [
        "Clustering dilakukan dengan menggunakan metode K-Means dan Agglomerative."
      ]
    },
    {
      "cell_type": "markdown",
      "metadata": {
        "id": "-pdlxNpOgUrO"
      },
      "source": [
        "### K-Means"
      ]
    },
    {
      "cell_type": "markdown",
      "metadata": {
        "id": "o0LGF3rq_ynw"
      },
      "source": [
        "Algoritma Kmeans adalah algoritma iteratif yang mencoba untuk mempartisi dataset menjadi subkelompok (cluster) non-overlapping berbeda yang ditentukan oleh Kpre dimana setiap titik data hanya dimiliki oleh satu kelompok. Ini mencoba untuk membuat titik data antar cluster semirip mungkin sambil juga menjaga cluster sejauh mungkin. Ini menetapkan poin data ke cluster sedemikian rupa sehingga jumlah jarak kuadrat antara titik data dan pusat massa cluster (rata-rata aritmatika dari semua titik data yang termasuk dalam cluster itu) minimal. Semakin sedikit variasi yang kita miliki dalam cluster, semakin homogen (serupa) titik data dalam cluster yang sama."
      ]
    },
    {
      "cell_type": "markdown",
      "metadata": {
        "id": "6fVoXNZavVrB"
      },
      "source": [
        "##### Mencari Nilai k Optimum"
      ]
    },
    {
      "cell_type": "markdown",
      "metadata": {
        "id": "K9l6EX2RvjGA"
      },
      "source": [
        "Berfungsi untuk menentukan nilai k yang paling optimal untuk digunakan pada K-means"
      ]
    },
    {
      "cell_type": "markdown",
      "metadata": {
        "id": "t6TU7Yyjw5f8"
      },
      "source": [
        "###### **Elbow Method**"
      ]
    },
    {
      "cell_type": "code",
      "metadata": {
        "id": "ysXvPXCpvp1b",
        "outputId": "26cd2418-9605-4ffb-d28e-90dd15e8940b",
        "colab": {
          "base_uri": "https://localhost:8080/",
          "height": 573
        }
      },
      "source": [
        "# Transform Data Frame to Numpy Array\n",
        "mallcust = df_sd.to_numpy()\n",
        "\n",
        "# Elbow Method\n",
        "wcss = []\n",
        "for i in range(1,11):\n",
        "    kmeans = KMeans(n_clusters=i, init='k-means++', max_iter=300, n_init=10, random_state=0)\n",
        "    kmeans.fit(mallcust)\n",
        "    wcss.append(kmeans.inertia_)\n",
        "  \n",
        "# Visualize \n",
        "plt.plot(range(1,11),wcss,'o:')\n",
        "plt.title('Elbow Method')\n",
        "plt.xlabel('Number of clusters')\n",
        "plt.ylabel('wcss')\n",
        "plt.show()"
      ],
      "execution_count": 15,
      "outputs": [
        {
          "output_type": "display_data",
          "data": {
            "image/png": "[encoded data removed]",
            "text/plain": [
              "<Figure size 1152x648 with 1 Axes>"
            ]
          },
          "metadata": {
            "tags": []
          }
        }
      ]
    },
    {
      "cell_type": "markdown",
      "metadata": {
        "id": "ft-T19CwwnSj"
      },
      "source": [
        "Berdasarkan gambar di atas, maka nilai k optimum terdapat pada titik 5"
      ]
    },
    {
      "cell_type": "markdown",
      "metadata": {
        "id": "EXOD3kjXxBXj"
      },
      "source": [
        "###### **Silhoutte Method**"
      ]
    },
    {
      "cell_type": "code",
      "metadata": {
        "id": "sVd9qGXGxE1s",
        "outputId": "a75a4114-d5ac-4eb3-e9b2-49fd47903aa5",
        "colab": {
          "base_uri": "https://localhost:8080/"
        }
      },
      "source": [
        "# Silhoutte Method\n",
        "silsc = []\n",
        "for n_cluster in range(2, 11):\n",
        "    kmeans = KMeans(n_clusters=n_cluster).fit(mallcust)\n",
        "    label = kmeans.labels_\n",
        "    sil_coeff = silhouette_score(mallcust, label, metric='euclidean')\n",
        "    silsc.append(sil_coeff)\n",
        "    print('For n_clusters={}, The Silhouette Coefficient is {}'.format(n_cluster, sil_coeff))"
      ],
      "execution_count": 16,
      "outputs": [
        {
          "output_type": "stream",
          "text": [
            "For n_clusters=2, The Silhouette Coefficient is 0.3212707813918878\n",
            "For n_clusters=3, The Silhouette Coefficient is 0.46658474419000145\n",
            "For n_clusters=4, The Silhouette Coefficient is 0.4939069237513199\n",
            "For n_clusters=5, The Silhouette Coefficient is 0.5546571631111091\n",
            "For n_clusters=6, The Silhouette Coefficient is 0.5380630705007141\n",
            "For n_clusters=7, The Silhouette Coefficient is 0.5263454490712252\n",
            "For n_clusters=8, The Silhouette Coefficient is 0.45460807466743275\n",
            "For n_clusters=9, The Silhouette Coefficient is 0.45338289123202313\n",
            "For n_clusters=10, The Silhouette Coefficient is 0.44942277625588267\n"
          ],
          "name": "stdout"
        }
      ]
    },
    {
      "cell_type": "code",
      "metadata": {
        "id": "2fhk0lQXxZ0o",
        "outputId": "8f09b68f-5ba7-44b1-adb9-2b0f34ce3fae",
        "colab": {
          "base_uri": "https://localhost:8080/",
          "height": 573
        }
      },
      "source": [
        "# Visualize\n",
        "plt.plot(range(2,11),silsc,'o:')\n",
        "plt.title(\"Silhouette Coefficient in every K\")\n",
        "plt.xlabel(\"Number of Clusters\")\n",
        "plt.ylabel(\"Silhouette Coefficients Skenario 1\")\n",
        "plt.show()"
      ],
      "execution_count": 17,
      "outputs": [
        {
          "output_type": "display_data",
          "data": {
            "image/png": "[encoded data removed]",
            "text/plain": [
              "<Figure size 1152x648 with 1 Axes>"
            ]
          },
          "metadata": {
            "tags": []
          }
        }
      ]
    },
    {
      "cell_type": "markdown",
      "metadata": {
        "id": "iuKcDltCxakn"
      },
      "source": [
        "Berdasarkan gambar di atas, maka nilai k optimum terdapat pada titik 5. <br> Sehingga k=5 (dari elbow method dan silhouette method)"
      ]
    },
    {
      "cell_type": "markdown",
      "metadata": {
        "id": "vkJ0y15GAIYP"
      },
      "source": [
        "##### Modeling K-Means"
      ]
    },
    {
      "cell_type": "code",
      "metadata": {
        "id": "fZXvEf9ugUrP",
        "outputId": "b9132e28-7a68-4064-f18a-fc04e7ed15b0",
        "colab": {
          "base_uri": "https://localhost:8080/",
          "height": 573
        }
      },
      "source": [
        "# Apply the K-Means Model to the Data\n",
        "kmeans = KMeans(n_clusters=5, init='k-means++', max_iter=300, n_init=10, random_state=0)\n",
        "cluster = kmeans.fit_predict(mallcust)\n",
        "\n",
        "# Visualising Clusters for k=5\n",
        "sns.scatterplot(x='Annual Income (k$)', y='Spending Score (1-100)', data=df_sd)\n",
        "plt.scatter(mallcust[cluster == 0, 0], mallcust[cluster == 0, 1], s = 50, label = 'Cluster 1')\n",
        "plt.scatter(mallcust[cluster == 1, 0], mallcust[cluster == 1, 1], s = 50, label = 'Cluster 2')\n",
        "plt.scatter(mallcust[cluster == 2, 0], mallcust[cluster == 2, 1], s = 50, label = 'Cluster 3')\n",
        "plt.scatter(mallcust[cluster == 3, 0], mallcust[cluster == 3, 1], s = 50, label = 'Cluster 4')\n",
        "plt.scatter(mallcust[cluster == 4, 0], mallcust[cluster == 4, 1], s = 50, label = 'Cluster 5')\n",
        "plt.scatter(kmeans.cluster_centers_[:,0], kmeans.cluster_centers_[:,1],s=200,marker='s', alpha=0.7, label='Centroids')\n",
        "plt.title('Customer segments')\n",
        "plt.xlabel('Annual Income (K$)')\n",
        "plt.ylabel('Spending Score (1-100)')\n",
        "plt.legend()\n",
        "plt.show()"
      ],
      "execution_count": 18,
      "outputs": [
        {
          "output_type": "display_data",
          "data": {
            "image/png": "[encoded data removed]",
            "text/plain": [
              "<Figure size 1152x648 with 1 Axes>"
            ]
          },
          "metadata": {
            "tags": []
          }
        }
      ]
    },
    {
      "cell_type": "markdown",
      "metadata": {
        "id": "vaaXGS491qP4"
      },
      "source": [
        "Dapat dilihat pada gambar di atas bahwa K-Means berhasil melakukan clustering pada data dengan k=5."
      ]
    },
    {
      "cell_type": "markdown",
      "metadata": {
        "id": "XqBiYRFzjxGc"
      },
      "source": [
        "## **Hierarchical Clustering**"
      ]
    },
    {
      "cell_type": "markdown",
      "metadata": {
        "id": "AE__c_zqGJLL"
      },
      "source": [
        "Pengelompokan hierarki (juga disebut hierarchical cluster analysis atau HCA) adalah metode analisis klaster yang berupaya membangun hierarki klaster. Endpoint adalah sekumpulan cluster, di mana setiap cluster berbeda satu sama lain, dan objek dalam setiap cluster secara luas mirip satu sama lain."
      ]
    },
    {
      "cell_type": "code",
      "metadata": {
        "id": "7wBJPhwI2FPd",
        "outputId": "6d3e6f7c-f319-4b67-d482-c87962dd399a",
        "colab": {
          "base_uri": "https://localhost:8080/",
          "height": 572
        }
      },
      "source": [
        "# Modeling and Visualizing Clusters by Dendogram\n",
        "dend = sch.dendrogram(sch.linkage(mallcust, method='ward'))\n",
        "plt.title('Dendrogram')\n",
        "plt.xlabel('Customer')\n",
        "plt.ylabel('Euclidean')\n",
        "plt.show()"
      ],
      "execution_count": 19,
      "outputs": [
        {
          "output_type": "display_data",
          "data": {
            "image/png": "[encoded data removed]",
            "text/plain": [
              "<Figure size 1152x648 with 1 Axes>"
            ]
          },
          "metadata": {
            "tags": []
          }
        }
      ]
    },
    {
      "cell_type": "code",
      "metadata": {
        "id": "Uflo5xgc2LRQ",
        "outputId": "62b69e4d-2275-4057-b257-5237678dd47c",
        "colab": {
          "base_uri": "https://localhost:8080/",
          "height": 573
        }
      },
      "source": [
        "# Apply the Hierarchical Clustering Model to the Dataset\n",
        "hc = AgglomerativeClustering(n_clusters=5, affinity='euclidean', linkage='ward')\n",
        "hcluster = hc.fit_predict(mallcust)\n",
        "\n",
        "# Visualising Clusters for k=5\n",
        "sns.scatterplot(x='Annual Income (k$)', y='Spending Score (1-100)', data=df_sd)\n",
        "plt.scatter(mallcust[hcluster == 0, 0], mallcust[hcluster == 0, 1], s = 50, label = 'Cluster 1')\n",
        "plt.scatter(mallcust[hcluster == 1, 0], mallcust[hcluster == 1, 1], s = 50, label = 'Cluster 2')\n",
        "plt.scatter(mallcust[hcluster == 2, 0], mallcust[hcluster == 2, 1], s = 50, label = 'Cluster 3')\n",
        "plt.scatter(mallcust[hcluster == 3, 0], mallcust[hcluster == 3, 1], s = 50, label = 'Cluster 4')\n",
        "plt.scatter(mallcust[hcluster == 4, 0], mallcust[hcluster == 4, 1], s = 50, label = 'Cluster 5')\n",
        "plt.title('Customer segments')\n",
        "plt.xlabel('Annual Income (K$)')\n",
        "plt.ylabel('Spending Score (1-100)')\n",
        "plt.legend()\n",
        "plt.show()"
      ],
      "execution_count": 20,
      "outputs": [
        {
          "output_type": "display_data",
          "data": {
            "image/png": "[encoded data removed]",
            "text/plain": [
              "<Figure size 1152x648 with 1 Axes>"
            ]
          },
          "metadata": {
            "tags": []
          }
        }
      ]
    },
    {
      "cell_type": "markdown",
      "metadata": {
        "id": "buJ0F1xr3KFI"
      },
      "source": [
        "Dapat dilihat pada gambar di atas bahwa Agglomerative Clustering dapat mengelompokkan data dengan menggunakan k=5."
      ]
    },
    {
      "cell_type": "markdown",
      "metadata": {
        "id": "tLywWNOcFjNl"
      },
      "source": [
        "###### Menambahkan Cluster pada Data"
      ]
    },
    {
      "cell_type": "code",
      "metadata": {
        "id": "Z4G_vQDcgUrW",
        "outputId": "c2b31ff3-c00b-45b5-bee6-5d8f876a3d38",
        "colab": {
          "base_uri": "https://localhost:8080/",
          "height": 198
        }
      },
      "source": [
        "# Add Cluster Information to the Raw Data\n",
        "df_mall['cluster'] = cluster\n",
        "df_mall.head()"
      ],
      "execution_count": 21,
      "outputs": [
        {
          "output_type": "execute_result",
          "data": {
            "text/html": [
              "<div>\n",
              "<style scoped>\n",
              "    .dataframe tbody tr th:only-of-type {\n",
              "        vertical-align: middle;\n",
              "    }\n",
              "\n",
              "    .dataframe tbody tr th {\n",
              "        vertical-align: top;\n",
              "    }\n",
              "\n",
              "    .dataframe thead th {\n",
              "        text-align: right;\n",
              "    }\n",
              "</style>\n",
              "<table border=\"1\" class=\"dataframe\">\n",
              "  <thead>\n",
              "    <tr style=\"text-align: right;\">\n",
              "      <th></th>\n",
              "      <th>Gender</th>\n",
              "      <th>Age</th>\n",
              "      <th>Annual Income (k$)</th>\n",
              "      <th>Spending Score (1-100)</th>\n",
              "      <th>cluster</th>\n",
              "    </tr>\n",
              "  </thead>\n",
              "  <tbody>\n",
              "    <tr>\n",
              "      <th>0</th>\n",
              "      <td>Male</td>\n",
              "      <td>19</td>\n",
              "      <td>15</td>\n",
              "      <td>39</td>\n",
              "      <td>4</td>\n",
              "    </tr>\n",
              "    <tr>\n",
              "      <th>1</th>\n",
              "      <td>Male</td>\n",
              "      <td>21</td>\n",
              "      <td>15</td>\n",
              "      <td>81</td>\n",
              "      <td>1</td>\n",
              "    </tr>\n",
              "    <tr>\n",
              "      <th>2</th>\n",
              "      <td>Female</td>\n",
              "      <td>20</td>\n",
              "      <td>16</td>\n",
              "      <td>6</td>\n",
              "      <td>4</td>\n",
              "    </tr>\n",
              "    <tr>\n",
              "      <th>3</th>\n",
              "      <td>Female</td>\n",
              "      <td>23</td>\n",
              "      <td>16</td>\n",
              "      <td>77</td>\n",
              "      <td>1</td>\n",
              "    </tr>\n",
              "    <tr>\n",
              "      <th>4</th>\n",
              "      <td>Female</td>\n",
              "      <td>31</td>\n",
              "      <td>17</td>\n",
              "      <td>40</td>\n",
              "      <td>4</td>\n",
              "    </tr>\n",
              "  </tbody>\n",
              "</table>\n",
              "</div>"
            ],
            "text/plain": [
              "   Gender  Age  Annual Income (k$)  Spending Score (1-100)  cluster\n",
              "0    Male   19                  15                      39        4\n",
              "1    Male   21                  15                      81        1\n",
              "2  Female   20                  16                       6        4\n",
              "3  Female   23                  16                      77        1\n",
              "4  Female   31                  17                      40        4"
            ]
          },
          "metadata": {
            "tags": []
          },
          "execution_count": 21
        }
      ]
    },
    {
      "cell_type": "code",
      "metadata": {
        "id": "8w3UDV953hbL"
      },
      "source": [
        "# Save= Result\n",
        "df_mall.to_csv('mall_clusters.csv', index=False)"
      ],
      "execution_count": 24,
      "outputs": []
    },
    {
      "cell_type": "markdown",
      "metadata": {
        "id": "fonzG8hAFxYh"
      },
      "source": [
        "## Kesimpulan"
      ]
    },
    {
      "cell_type": "markdown",
      "metadata": {
        "id": "xGSSrSqGJmR9"
      },
      "source": [
        "Berdasarkan hasil dari Elbow Method dan Silhouette Methode, k optimum didapatkan pada nilai 5 (k=5). Selain itu algoritma K-Means dan Agglomerative dapat menghasilkan cluster yang optimum dengan menggunakan nilai k tersebut."
      ]
    },
    {
      "cell_type": "markdown",
      "metadata": {
        "id": "W3YCv1N14wj5"
      },
      "source": [
        "Berikut merupakan data hasil clustering"
      ]
    },
    {
      "cell_type": "code",
      "metadata": {
        "id": "JC3owWRJ44xp",
        "outputId": "5d7aa948-a56e-4b2e-a03f-c87cd062db40",
        "colab": {
          "base_uri": "https://localhost:8080/",
          "height": 721
        }
      },
      "source": [
        "print(df_mall['cluster'].value_counts())\n",
        "print('\\n')\n",
        "sns.countplot(x='cluster', data=df_mall)"
      ],
      "execution_count": 23,
      "outputs": [
        {
          "output_type": "stream",
          "text": [
            "2    81\n",
            "3    39\n",
            "0    35\n",
            "4    23\n",
            "1    22\n",
            "Name: cluster, dtype: int64\n",
            "\n",
            "\n"
          ],
          "name": "stdout"
        },
        {
          "output_type": "execute_result",
          "data": {
            "text/plain": [
              "<matplotlib.axes._subplots.AxesSubplot at 0x7f2eb8c97160>"
            ]
          },
          "metadata": {
            "tags": []
          },
          "execution_count": 23
        },
        {
          "output_type": "display_data",
          "data": {
            "image/png": "[encoded data removed]",
            "text/plain": [
              "<Figure size 1152x648 with 1 Axes>"
            ]
          },
          "metadata": {
            "tags": []
          }
        }
      ]
    }
  ]
}